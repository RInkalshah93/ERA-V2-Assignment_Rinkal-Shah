{
 "cells": [
  {
   "cell_type": "code",
   "execution_count": 1,
   "metadata": {},
   "outputs": [],
   "source": [
    "import torch\n",
    "import torch.nn as nn\n",
    "import torch.nn.functional as F\n",
    "import torch.optim as optim\n",
    "from torchvision import datasets, transforms\n",
    "#import model\n",
    "from model import Model_9\n",
    "import matplotlib.pyplot as plt\n",
    "import dataset\n",
    "import train\n"
   ]
  },
  {
   "cell_type": "code",
   "execution_count": 2,
   "metadata": {},
   "outputs": [
    {
     "name": "stdout",
     "output_type": "stream",
     "text": [
      "CUDA Available? True\n",
      "Files already downloaded and verified\n",
      "Files already downloaded and verified\n"
     ]
    }
   ],
   "source": [
    "SEED = 1\n",
    "\n",
    "\n",
    "cuda = torch.cuda.is_available()\n",
    "print(\"CUDA Available?\", cuda)\n",
    "\n",
    "\n",
    "torch.manual_seed(SEED)\n",
    "\n",
    "if cuda:\n",
    "    torch.cuda.manual_seed(SEED)\n",
    "\n",
    "train_data = dataset.train()\n",
    "test_data = dataset.test()\n",
    "if cuda:\n",
    "    batch_size = 128\n",
    "    shuffle = True\n",
    "    num_workers = 4\n",
    "    pin_memory = True\n",
    "    train_loader = dataset.get_train_loader(batch_size,shuffle,num_workers,pin_memory,train_data)\n",
    "    test_loader = dataset.get_train_loader(batch_size,shuffle,num_workers,pin_memory,test_data)\n",
    "else:\n",
    "    batch_size =64\n",
    "    shuffle = True\n",
    "    num_workers =4\n",
    "    pin_memory = True\n",
    "    train_loader = dataset.get_train_loader(batch_size,shuffle,num_workers,pin_memory,train_data)\n",
    "    test_loader = dataset.get_train_loader(batch_size,shuffle,num_workers,pin_memory,test_data)\n"
   ]
  },
  {
   "cell_type": "code",
   "execution_count": 3,
   "metadata": {},
   "outputs": [
    {
     "name": "stdout",
     "output_type": "stream",
     "text": [
      "Requirement already satisfied: torchsummary in d:\\environment\\era_v2\\lib\\site-packages (1.5.1)\n",
      "cuda\n",
      "----------------------------------------------------------------\n",
      "        Layer (type)               Output Shape         Param #\n",
      "================================================================\n",
      "            Conv2d-1           [-1, 16, 32, 32]             432\n",
      "              ReLU-2           [-1, 16, 32, 32]               0\n",
      "       BatchNorm2d-3           [-1, 16, 32, 32]              32\n",
      "           Dropout-4           [-1, 16, 32, 32]               0\n",
      "            Conv2d-5           [-1, 16, 32, 32]           2,304\n",
      "              ReLU-6           [-1, 16, 32, 32]               0\n",
      "       BatchNorm2d-7           [-1, 16, 32, 32]              32\n",
      "           Dropout-8           [-1, 16, 32, 32]               0\n",
      "            Conv2d-9           [-1, 32, 16, 16]           4,608\n",
      "             ReLU-10           [-1, 32, 16, 16]               0\n",
      "      BatchNorm2d-11           [-1, 32, 16, 16]              64\n",
      "          Dropout-12           [-1, 32, 16, 16]               0\n",
      "           Conv2d-13           [-1, 32, 16, 16]           9,216\n",
      "           Conv2d-14           [-1, 32, 16, 16]           9,216\n",
      "             ReLU-15           [-1, 32, 16, 16]               0\n",
      "      BatchNorm2d-16           [-1, 32, 16, 16]              64\n",
      "          Dropout-17           [-1, 32, 16, 16]               0\n",
      "           Conv2d-18             [-1, 32, 8, 8]           9,216\n",
      "             ReLU-19             [-1, 32, 8, 8]               0\n",
      "      BatchNorm2d-20             [-1, 32, 8, 8]              64\n",
      "          Dropout-21             [-1, 32, 8, 8]               0\n",
      "           Conv2d-22             [-1, 32, 8, 8]           9,216\n",
      "           Conv2d-23             [-1, 64, 8, 8]          18,432\n",
      "             ReLU-24             [-1, 64, 8, 8]               0\n",
      "      BatchNorm2d-25             [-1, 64, 8, 8]             128\n",
      "          Dropout-26             [-1, 64, 8, 8]               0\n",
      "           Conv2d-27             [-1, 64, 6, 6]          36,864\n",
      "             ReLU-28             [-1, 64, 6, 6]               0\n",
      "      BatchNorm2d-29             [-1, 64, 6, 6]             128\n",
      "          Dropout-30             [-1, 64, 6, 6]               0\n",
      "           Conv2d-31             [-1, 64, 6, 6]          36,864\n",
      "           Conv2d-32             [-1, 64, 6, 6]          36,864\n",
      "             ReLU-33             [-1, 64, 6, 6]               0\n",
      "      BatchNorm2d-34             [-1, 64, 6, 6]             128\n",
      "          Dropout-35             [-1, 64, 6, 6]               0\n",
      "           Conv2d-36             [-1, 64, 6, 6]           1,152\n",
      "           Conv2d-37            [-1, 128, 6, 6]           8,192\n",
      "             ReLU-38            [-1, 128, 6, 6]               0\n",
      "      BatchNorm2d-39            [-1, 128, 6, 6]             256\n",
      "          Dropout-40            [-1, 128, 6, 6]               0\n",
      "        AvgPool2d-41            [-1, 128, 1, 1]               0\n",
      "           Conv2d-42             [-1, 10, 1, 1]           1,280\n",
      "================================================================\n",
      "Total params: 184,752\n",
      "Trainable params: 184,752\n",
      "Non-trainable params: 0\n",
      "----------------------------------------------------------------\n",
      "Input size (MB): 0.01\n",
      "Forward/backward pass size (MB): 2.08\n",
      "Params size (MB): 0.70\n",
      "Estimated Total Size (MB): 2.80\n",
      "----------------------------------------------------------------\n"
     ]
    }
   ],
   "source": [
    "!pip install torchsummary\n",
    "from torchsummary import summary\n",
    "use_cuda = torch.cuda.is_available()\n",
    "device = torch.device(\"cuda\" if use_cuda else \"cpu\")\n",
    "print(device)\n",
    "model = Model_9().to(device)\n",
    "summary(model, input_size=(3, 32, 32))"
   ]
  },
  {
   "cell_type": "code",
   "execution_count": 4,
   "metadata": {},
   "outputs": [
    {
     "name": "stdout",
     "output_type": "stream",
     "text": [
      "Epoch 1\n"
     ]
    },
    {
     "name": "stderr",
     "output_type": "stream",
     "text": [
      "Loss=1.6833547353744507 Batch_id=390 Accuracy=37.21: 100%|██████████| 391/391 [01:13<00:00,  5.29it/s]\n"
     ]
    },
    {
     "name": "stdout",
     "output_type": "stream",
     "text": [
      "\n",
      "Test set: Average loss: 1.4682, Accuracy: 4599/10000 (45.99%)\n",
      "\n",
      "Epoch 2\n"
     ]
    },
    {
     "name": "stderr",
     "output_type": "stream",
     "text": [
      "Loss=1.2563927173614502 Batch_id=390 Accuracy=47.59: 100%|██████████| 391/391 [00:28<00:00, 13.78it/s]\n"
     ]
    },
    {
     "name": "stdout",
     "output_type": "stream",
     "text": [
      "\n",
      "Test set: Average loss: 1.2279, Accuracy: 5611/10000 (56.11%)\n",
      "\n",
      "Epoch 3\n"
     ]
    },
    {
     "name": "stderr",
     "output_type": "stream",
     "text": [
      "Loss=1.2506223917007446 Batch_id=390 Accuracy=53.15: 100%|██████████| 391/391 [00:23<00:00, 16.60it/s]\n"
     ]
    },
    {
     "name": "stdout",
     "output_type": "stream",
     "text": [
      "\n",
      "Test set: Average loss: 1.0900, Accuracy: 6089/10000 (60.89%)\n",
      "\n",
      "Epoch 4\n"
     ]
    },
    {
     "name": "stderr",
     "output_type": "stream",
     "text": [
      "Loss=0.9924030303955078 Batch_id=390 Accuracy=57.22: 100%|██████████| 391/391 [00:23<00:00, 16.76it/s]\n"
     ]
    },
    {
     "name": "stdout",
     "output_type": "stream",
     "text": [
      "\n",
      "Test set: Average loss: 0.9174, Accuracy: 6696/10000 (66.96%)\n",
      "\n",
      "Epoch 5\n"
     ]
    },
    {
     "name": "stderr",
     "output_type": "stream",
     "text": [
      "Loss=1.084663987159729 Batch_id=390 Accuracy=60.95: 100%|██████████| 391/391 [00:23<00:00, 16.92it/s] \n"
     ]
    },
    {
     "name": "stdout",
     "output_type": "stream",
     "text": [
      "\n",
      "Test set: Average loss: 0.8463, Accuracy: 6959/10000 (69.59%)\n",
      "\n",
      "Epoch 6\n"
     ]
    },
    {
     "name": "stderr",
     "output_type": "stream",
     "text": [
      "Loss=0.8529049158096313 Batch_id=390 Accuracy=63.29: 100%|██████████| 391/391 [00:23<00:00, 16.89it/s]\n"
     ]
    },
    {
     "name": "stdout",
     "output_type": "stream",
     "text": [
      "\n",
      "Test set: Average loss: 0.7882, Accuracy: 7254/10000 (72.54%)\n",
      "\n",
      "Epoch 7\n"
     ]
    },
    {
     "name": "stderr",
     "output_type": "stream",
     "text": [
      "Loss=0.9087160229682922 Batch_id=390 Accuracy=65.10: 100%|██████████| 391/391 [00:22<00:00, 17.11it/s]\n"
     ]
    },
    {
     "name": "stdout",
     "output_type": "stream",
     "text": [
      "\n",
      "Test set: Average loss: 0.7761, Accuracy: 7201/10000 (72.01%)\n",
      "\n",
      "Epoch 8\n"
     ]
    },
    {
     "name": "stderr",
     "output_type": "stream",
     "text": [
      "Loss=0.9944046139717102 Batch_id=390 Accuracy=66.85: 100%|██████████| 391/391 [00:22<00:00, 17.08it/s]\n"
     ]
    },
    {
     "name": "stdout",
     "output_type": "stream",
     "text": [
      "\n",
      "Test set: Average loss: 0.7228, Accuracy: 7481/10000 (74.81%)\n",
      "\n",
      "Epoch 9\n"
     ]
    },
    {
     "name": "stderr",
     "output_type": "stream",
     "text": [
      "Loss=0.9161804914474487 Batch_id=390 Accuracy=68.04: 100%|██████████| 391/391 [00:22<00:00, 17.05it/s]\n"
     ]
    },
    {
     "name": "stdout",
     "output_type": "stream",
     "text": [
      "\n",
      "Test set: Average loss: 0.7633, Accuracy: 7370/10000 (73.70%)\n",
      "\n",
      "Epoch 10\n"
     ]
    },
    {
     "name": "stderr",
     "output_type": "stream",
     "text": [
      "Loss=0.8672530055046082 Batch_id=390 Accuracy=69.08: 100%|██████████| 391/391 [00:22<00:00, 17.09it/s]\n"
     ]
    },
    {
     "name": "stdout",
     "output_type": "stream",
     "text": [
      "\n",
      "Test set: Average loss: 0.6863, Accuracy: 7622/10000 (76.22%)\n",
      "\n",
      "Epoch 11\n"
     ]
    },
    {
     "name": "stderr",
     "output_type": "stream",
     "text": [
      "Loss=0.6806663274765015 Batch_id=390 Accuracy=70.33: 100%|██████████| 391/391 [00:23<00:00, 16.98it/s]\n"
     ]
    },
    {
     "name": "stdout",
     "output_type": "stream",
     "text": [
      "\n",
      "Test set: Average loss: 0.6623, Accuracy: 7682/10000 (76.82%)\n",
      "\n",
      "Epoch 12\n"
     ]
    },
    {
     "name": "stderr",
     "output_type": "stream",
     "text": [
      "Loss=0.6863409280776978 Batch_id=390 Accuracy=71.00: 100%|██████████| 391/391 [00:22<00:00, 17.01it/s]\n"
     ]
    },
    {
     "name": "stdout",
     "output_type": "stream",
     "text": [
      "\n",
      "Test set: Average loss: 0.6122, Accuracy: 7903/10000 (79.03%)\n",
      "\n",
      "Epoch 13\n"
     ]
    },
    {
     "name": "stderr",
     "output_type": "stream",
     "text": [
      "Loss=0.7146294713020325 Batch_id=390 Accuracy=71.77: 100%|██████████| 391/391 [00:23<00:00, 16.93it/s]\n"
     ]
    },
    {
     "name": "stdout",
     "output_type": "stream",
     "text": [
      "\n",
      "Test set: Average loss: 0.6282, Accuracy: 7838/10000 (78.38%)\n",
      "\n",
      "Epoch 14\n"
     ]
    },
    {
     "name": "stderr",
     "output_type": "stream",
     "text": [
      "Loss=1.0293047428131104 Batch_id=390 Accuracy=71.99: 100%|██████████| 391/391 [00:22<00:00, 17.02it/s]\n"
     ]
    },
    {
     "name": "stdout",
     "output_type": "stream",
     "text": [
      "\n",
      "Test set: Average loss: 0.6118, Accuracy: 7856/10000 (78.56%)\n",
      "\n",
      "Epoch 15\n"
     ]
    },
    {
     "name": "stderr",
     "output_type": "stream",
     "text": [
      "Loss=0.8123503923416138 Batch_id=390 Accuracy=72.87: 100%|██████████| 391/391 [00:23<00:00, 16.89it/s]\n"
     ]
    },
    {
     "name": "stdout",
     "output_type": "stream",
     "text": [
      "\n",
      "Test set: Average loss: 0.5906, Accuracy: 8008/10000 (80.08%)\n",
      "\n",
      "Epoch 16\n"
     ]
    },
    {
     "name": "stderr",
     "output_type": "stream",
     "text": [
      "Loss=0.8912307024002075 Batch_id=390 Accuracy=73.55: 100%|██████████| 391/391 [00:22<00:00, 17.08it/s]\n"
     ]
    },
    {
     "name": "stdout",
     "output_type": "stream",
     "text": [
      "\n",
      "Test set: Average loss: 0.5627, Accuracy: 8017/10000 (80.17%)\n",
      "\n",
      "Epoch 17\n"
     ]
    },
    {
     "name": "stderr",
     "output_type": "stream",
     "text": [
      "Loss=0.6705540418624878 Batch_id=390 Accuracy=73.65: 100%|██████████| 391/391 [00:22<00:00, 17.04it/s]\n"
     ]
    },
    {
     "name": "stdout",
     "output_type": "stream",
     "text": [
      "\n",
      "Test set: Average loss: 0.5719, Accuracy: 8057/10000 (80.57%)\n",
      "\n",
      "Epoch 18\n"
     ]
    },
    {
     "name": "stderr",
     "output_type": "stream",
     "text": [
      "Loss=0.7654520273208618 Batch_id=390 Accuracy=73.91: 100%|██████████| 391/391 [00:22<00:00, 17.02it/s] \n"
     ]
    },
    {
     "name": "stdout",
     "output_type": "stream",
     "text": [
      "\n",
      "Test set: Average loss: 0.5420, Accuracy: 8159/10000 (81.59%)\n",
      "\n",
      "Epoch 19\n"
     ]
    },
    {
     "name": "stderr",
     "output_type": "stream",
     "text": [
      "Loss=0.6481605172157288 Batch_id=390 Accuracy=74.53: 100%|██████████| 391/391 [00:22<00:00, 17.09it/s] \n"
     ]
    },
    {
     "name": "stdout",
     "output_type": "stream",
     "text": [
      "\n",
      "Test set: Average loss: 0.5591, Accuracy: 8079/10000 (80.79%)\n",
      "\n",
      "Epoch 20\n"
     ]
    },
    {
     "name": "stderr",
     "output_type": "stream",
     "text": [
      "Loss=0.6777233481407166 Batch_id=390 Accuracy=75.12: 100%|██████████| 391/391 [00:22<00:00, 17.07it/s]\n"
     ]
    },
    {
     "name": "stdout",
     "output_type": "stream",
     "text": [
      "\n",
      "Test set: Average loss: 0.5335, Accuracy: 8154/10000 (81.54%)\n",
      "\n",
      "Epoch 21\n"
     ]
    },
    {
     "name": "stderr",
     "output_type": "stream",
     "text": [
      "Loss=0.8435183763504028 Batch_id=390 Accuracy=75.30: 100%|██████████| 391/391 [00:22<00:00, 17.14it/s]\n"
     ]
    },
    {
     "name": "stdout",
     "output_type": "stream",
     "text": [
      "\n",
      "Test set: Average loss: 0.5291, Accuracy: 8171/10000 (81.71%)\n",
      "\n",
      "Epoch 22\n"
     ]
    },
    {
     "name": "stderr",
     "output_type": "stream",
     "text": [
      "Loss=0.7607002258300781 Batch_id=390 Accuracy=75.57: 100%|██████████| 391/391 [00:22<00:00, 17.05it/s]\n"
     ]
    },
    {
     "name": "stdout",
     "output_type": "stream",
     "text": [
      "\n",
      "Test set: Average loss: 0.5265, Accuracy: 8175/10000 (81.75%)\n",
      "\n",
      "Epoch 23\n"
     ]
    },
    {
     "name": "stderr",
     "output_type": "stream",
     "text": [
      "Loss=0.5706086754798889 Batch_id=390 Accuracy=75.51: 100%|██████████| 391/391 [00:22<00:00, 17.06it/s]\n"
     ]
    },
    {
     "name": "stdout",
     "output_type": "stream",
     "text": [
      "\n",
      "Test set: Average loss: 0.5226, Accuracy: 8213/10000 (82.13%)\n",
      "\n",
      "Epoch 24\n"
     ]
    },
    {
     "name": "stderr",
     "output_type": "stream",
     "text": [
      "Loss=0.615822970867157 Batch_id=390 Accuracy=76.12: 100%|██████████| 391/391 [00:22<00:00, 17.10it/s]  \n"
     ]
    },
    {
     "name": "stdout",
     "output_type": "stream",
     "text": [
      "\n",
      "Test set: Average loss: 0.5006, Accuracy: 8303/10000 (83.03%)\n",
      "\n",
      "Epoch 25\n"
     ]
    },
    {
     "name": "stderr",
     "output_type": "stream",
     "text": [
      "Loss=0.7299373149871826 Batch_id=390 Accuracy=76.29: 100%|██████████| 391/391 [00:22<00:00, 17.08it/s] \n"
     ]
    },
    {
     "name": "stdout",
     "output_type": "stream",
     "text": [
      "\n",
      "Test set: Average loss: 0.5119, Accuracy: 8189/10000 (81.89%)\n",
      "\n",
      "Epoch 26\n"
     ]
    },
    {
     "name": "stderr",
     "output_type": "stream",
     "text": [
      "Loss=0.5831146240234375 Batch_id=390 Accuracy=78.22: 100%|██████████| 391/391 [00:22<00:00, 17.10it/s] \n"
     ]
    },
    {
     "name": "stdout",
     "output_type": "stream",
     "text": [
      "\n",
      "Test set: Average loss: 0.4618, Accuracy: 8397/10000 (83.97%)\n",
      "\n",
      "Epoch 27\n"
     ]
    },
    {
     "name": "stderr",
     "output_type": "stream",
     "text": [
      "Loss=0.6924815773963928 Batch_id=390 Accuracy=78.85: 100%|██████████| 391/391 [00:22<00:00, 17.09it/s] \n"
     ]
    },
    {
     "name": "stdout",
     "output_type": "stream",
     "text": [
      "\n",
      "Test set: Average loss: 0.4553, Accuracy: 8446/10000 (84.46%)\n",
      "\n",
      "Epoch 28\n"
     ]
    },
    {
     "name": "stderr",
     "output_type": "stream",
     "text": [
      "Loss=0.5744480490684509 Batch_id=390 Accuracy=78.85: 100%|██████████| 391/391 [00:22<00:00, 17.09it/s] \n"
     ]
    },
    {
     "name": "stdout",
     "output_type": "stream",
     "text": [
      "\n",
      "Test set: Average loss: 0.4508, Accuracy: 8454/10000 (84.54%)\n",
      "\n",
      "Epoch 29\n"
     ]
    },
    {
     "name": "stderr",
     "output_type": "stream",
     "text": [
      "Loss=0.605919361114502 Batch_id=390 Accuracy=79.39: 100%|██████████| 391/391 [00:22<00:00, 17.07it/s]  \n"
     ]
    },
    {
     "name": "stdout",
     "output_type": "stream",
     "text": [
      "\n",
      "Test set: Average loss: 0.4538, Accuracy: 8473/10000 (84.73%)\n",
      "\n",
      "Epoch 30\n"
     ]
    },
    {
     "name": "stderr",
     "output_type": "stream",
     "text": [
      "Loss=0.3153391182422638 Batch_id=390 Accuracy=79.22: 100%|██████████| 391/391 [00:22<00:00, 17.15it/s] \n"
     ]
    },
    {
     "name": "stdout",
     "output_type": "stream",
     "text": [
      "\n",
      "Test set: Average loss: 0.4470, Accuracy: 8483/10000 (84.83%)\n",
      "\n",
      "Epoch 31\n"
     ]
    },
    {
     "name": "stderr",
     "output_type": "stream",
     "text": [
      "Loss=0.6091096997261047 Batch_id=390 Accuracy=79.32: 100%|██████████| 391/391 [00:22<00:00, 17.06it/s] \n"
     ]
    },
    {
     "name": "stdout",
     "output_type": "stream",
     "text": [
      "\n",
      "Test set: Average loss: 0.4488, Accuracy: 8470/10000 (84.70%)\n",
      "\n",
      "Epoch 32\n"
     ]
    },
    {
     "name": "stderr",
     "output_type": "stream",
     "text": [
      "Loss=0.5258050560951233 Batch_id=390 Accuracy=79.44: 100%|██████████| 391/391 [00:22<00:00, 17.05it/s] \n"
     ]
    },
    {
     "name": "stdout",
     "output_type": "stream",
     "text": [
      "\n",
      "Test set: Average loss: 0.4447, Accuracy: 8504/10000 (85.04%)\n",
      "\n",
      "Epoch 33\n"
     ]
    },
    {
     "name": "stderr",
     "output_type": "stream",
     "text": [
      "Loss=0.541857123374939 Batch_id=390 Accuracy=79.77: 100%|██████████| 391/391 [00:22<00:00, 17.10it/s]  \n"
     ]
    },
    {
     "name": "stdout",
     "output_type": "stream",
     "text": [
      "\n",
      "Test set: Average loss: 0.4437, Accuracy: 8479/10000 (84.79%)\n",
      "\n",
      "Epoch 34\n"
     ]
    },
    {
     "name": "stderr",
     "output_type": "stream",
     "text": [
      "Loss=0.5674678683280945 Batch_id=390 Accuracy=79.59: 100%|██████████| 391/391 [00:22<00:00, 17.04it/s] \n"
     ]
    },
    {
     "name": "stdout",
     "output_type": "stream",
     "text": [
      "\n",
      "Test set: Average loss: 0.4446, Accuracy: 8487/10000 (84.87%)\n",
      "\n",
      "Epoch 35\n"
     ]
    },
    {
     "name": "stderr",
     "output_type": "stream",
     "text": [
      "Loss=0.5964156985282898 Batch_id=390 Accuracy=79.50: 100%|██████████| 391/391 [00:22<00:00, 17.05it/s] \n"
     ]
    },
    {
     "name": "stdout",
     "output_type": "stream",
     "text": [
      "\n",
      "Test set: Average loss: 0.4436, Accuracy: 8500/10000 (85.00%)\n",
      "\n",
      "Epoch 36\n"
     ]
    },
    {
     "name": "stderr",
     "output_type": "stream",
     "text": [
      "Loss=0.5441532731056213 Batch_id=390 Accuracy=79.70: 100%|██████████| 391/391 [00:22<00:00, 17.10it/s] \n"
     ]
    },
    {
     "name": "stdout",
     "output_type": "stream",
     "text": [
      "\n",
      "Test set: Average loss: 0.4425, Accuracy: 8517/10000 (85.17%)\n",
      "\n",
      "Epoch 37\n"
     ]
    },
    {
     "name": "stderr",
     "output_type": "stream",
     "text": [
      "Loss=0.5046738982200623 Batch_id=390 Accuracy=79.58: 100%|██████████| 391/391 [00:22<00:00, 17.00it/s] \n"
     ]
    },
    {
     "name": "stdout",
     "output_type": "stream",
     "text": [
      "\n",
      "Test set: Average loss: 0.4388, Accuracy: 8519/10000 (85.19%)\n",
      "\n",
      "Epoch 38\n"
     ]
    },
    {
     "name": "stderr",
     "output_type": "stream",
     "text": [
      "Loss=0.438842236995697 Batch_id=390 Accuracy=79.75: 100%|██████████| 391/391 [00:23<00:00, 16.90it/s]  \n"
     ]
    },
    {
     "name": "stdout",
     "output_type": "stream",
     "text": [
      "\n",
      "Test set: Average loss: 0.4408, Accuracy: 8515/10000 (85.15%)\n",
      "\n",
      "Epoch 39\n"
     ]
    },
    {
     "name": "stderr",
     "output_type": "stream",
     "text": [
      "Loss=0.6144164800643921 Batch_id=390 Accuracy=79.59: 100%|██████████| 391/391 [00:22<00:00, 17.04it/s] \n"
     ]
    },
    {
     "name": "stdout",
     "output_type": "stream",
     "text": [
      "\n",
      "Test set: Average loss: 0.4379, Accuracy: 8518/10000 (85.18%)\n",
      "\n",
      "Epoch 40\n"
     ]
    },
    {
     "name": "stderr",
     "output_type": "stream",
     "text": [
      "Loss=0.5562204122543335 Batch_id=390 Accuracy=79.96: 100%|██████████| 391/391 [00:22<00:00, 17.00it/s] \n"
     ]
    },
    {
     "name": "stdout",
     "output_type": "stream",
     "text": [
      "\n",
      "Test set: Average loss: 0.4385, Accuracy: 8508/10000 (85.08%)\n",
      "\n",
      "Epoch 41\n"
     ]
    },
    {
     "name": "stderr",
     "output_type": "stream",
     "text": [
      "Loss=0.6218477487564087 Batch_id=390 Accuracy=80.08: 100%|██████████| 391/391 [00:25<00:00, 15.39it/s] \n"
     ]
    },
    {
     "name": "stdout",
     "output_type": "stream",
     "text": [
      "\n",
      "Test set: Average loss: 0.4379, Accuracy: 8506/10000 (85.06%)\n",
      "\n",
      "Epoch 42\n"
     ]
    },
    {
     "name": "stderr",
     "output_type": "stream",
     "text": [
      "Loss=0.560425877571106 Batch_id=390 Accuracy=79.93: 100%|██████████| 391/391 [00:22<00:00, 17.05it/s]  \n"
     ]
    },
    {
     "name": "stdout",
     "output_type": "stream",
     "text": [
      "\n",
      "Test set: Average loss: 0.4384, Accuracy: 8518/10000 (85.18%)\n",
      "\n",
      "Epoch 43\n"
     ]
    },
    {
     "name": "stderr",
     "output_type": "stream",
     "text": [
      "Loss=0.5746508836746216 Batch_id=390 Accuracy=80.05: 100%|██████████| 391/391 [00:23<00:00, 16.74it/s] \n"
     ]
    },
    {
     "name": "stdout",
     "output_type": "stream",
     "text": [
      "\n",
      "Test set: Average loss: 0.4356, Accuracy: 8518/10000 (85.18%)\n",
      "\n",
      "Epoch 44\n"
     ]
    },
    {
     "name": "stderr",
     "output_type": "stream",
     "text": [
      "Loss=0.5930072069168091 Batch_id=390 Accuracy=79.85: 100%|██████████| 391/391 [00:23<00:00, 16.89it/s] \n"
     ]
    },
    {
     "name": "stdout",
     "output_type": "stream",
     "text": [
      "\n",
      "Test set: Average loss: 0.4369, Accuracy: 8510/10000 (85.10%)\n",
      "\n",
      "Epoch 45\n"
     ]
    },
    {
     "name": "stderr",
     "output_type": "stream",
     "text": [
      "Loss=0.7086218595504761 Batch_id=390 Accuracy=80.45: 100%|██████████| 391/391 [00:22<00:00, 17.08it/s] \n"
     ]
    },
    {
     "name": "stdout",
     "output_type": "stream",
     "text": [
      "\n",
      "Test set: Average loss: 0.4376, Accuracy: 8501/10000 (85.01%)\n",
      "\n",
      "Epoch 46\n"
     ]
    },
    {
     "name": "stderr",
     "output_type": "stream",
     "text": [
      "Loss=0.5093702673912048 Batch_id=390 Accuracy=80.12: 100%|██████████| 391/391 [00:23<00:00, 16.89it/s] \n"
     ]
    },
    {
     "name": "stdout",
     "output_type": "stream",
     "text": [
      "\n",
      "Test set: Average loss: 0.4349, Accuracy: 8541/10000 (85.41%)\n",
      "\n",
      "Epoch 47\n"
     ]
    },
    {
     "name": "stderr",
     "output_type": "stream",
     "text": [
      "Loss=0.6346791386604309 Batch_id=390 Accuracy=80.02: 100%|██████████| 391/391 [00:22<00:00, 17.09it/s] \n"
     ]
    },
    {
     "name": "stdout",
     "output_type": "stream",
     "text": [
      "\n",
      "Test set: Average loss: 0.4343, Accuracy: 8515/10000 (85.15%)\n",
      "\n",
      "Epoch 48\n"
     ]
    },
    {
     "name": "stderr",
     "output_type": "stream",
     "text": [
      "Loss=0.4864988923072815 Batch_id=390 Accuracy=80.03: 100%|██████████| 391/391 [00:22<00:00, 17.04it/s] \n"
     ]
    },
    {
     "name": "stdout",
     "output_type": "stream",
     "text": [
      "\n",
      "Test set: Average loss: 0.4320, Accuracy: 8524/10000 (85.24%)\n",
      "\n",
      "Epoch 49\n"
     ]
    },
    {
     "name": "stderr",
     "output_type": "stream",
     "text": [
      "Loss=0.5268091559410095 Batch_id=390 Accuracy=80.22: 100%|██████████| 391/391 [00:22<00:00, 17.03it/s] \n"
     ]
    },
    {
     "name": "stdout",
     "output_type": "stream",
     "text": [
      "\n",
      "Test set: Average loss: 0.4320, Accuracy: 8535/10000 (85.35%)\n",
      "\n",
      "Epoch 50\n"
     ]
    },
    {
     "name": "stderr",
     "output_type": "stream",
     "text": [
      "Loss=0.6531031131744385 Batch_id=390 Accuracy=80.44: 100%|██████████| 391/391 [00:22<00:00, 17.08it/s] \n"
     ]
    },
    {
     "name": "stdout",
     "output_type": "stream",
     "text": [
      "\n",
      "Test set: Average loss: 0.4342, Accuracy: 8516/10000 (85.16%)\n",
      "\n"
     ]
    }
   ],
   "source": [
    "from torch.optim.lr_scheduler import StepLR\n",
    "model = Model_9().to(device)\n",
    "optimizer = optim.SGD(model.parameters(), lr=0.04, momentum=0.9)\n",
    "scheduler = StepLR(optimizer, step_size=25, gamma=0.08)\n",
    "num_epochs = 50\n",
    "\n",
    "for epoch in range(1, num_epochs+1):\n",
    "    print(f'Epoch {epoch}')\n",
    "    train_acc, train_losses = train.train(model, device, train_loader, optimizer)\n",
    "    scheduler.step()\n",
    "    test_acc, test_losses = train.test(model, device, test_loader)\n",
    "    \n"
   ]
  },
  {
   "cell_type": "code",
   "execution_count": 5,
   "metadata": {},
   "outputs": [
    {
     "data": {
      "image/png": "[encoded data removed]",
      "text/plain": [
       "<Figure size 1500x1000 with 4 Axes>"
      ]
     },
     "metadata": {},
     "output_type": "display_data"
    }
   ],
   "source": [
    "train.plot_loss_accuracy(train_losses,train_acc,test_losses,test_acc)"
   ]
  },
  {
   "cell_type": "code",
   "execution_count": null,
   "metadata": {},
   "outputs": [],
   "source": []
  }
 ],
 "metadata": {
  "kernelspec": {
   "display_name": "ERA_V2",
   "language": "python",
   "name": "era_v2"
  },
  "language_info": {
   "codemirror_mode": {
    "name": "ipython",
    "version": 3
   },
   "file_extension": ".py",
   "mimetype": "text/x-python",
   "name": "python",
   "nbconvert_exporter": "python",
   "pygments_lexer": "ipython3",
   "version": "3.10.5"
  }
 },
 "nbformat": 4,
 "nbformat_minor": 2
}
