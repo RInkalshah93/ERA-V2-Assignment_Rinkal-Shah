{
  "nbformat": 4,
  "nbformat_minor": 0,
  "metadata": {
    "colab": {
      "provenance": [],
      "gpuType": "T4"
    },
    "kernelspec": {
      "name": "python3",
      "display_name": "Python 3"
    },
    "language_info": {
      "name": "python"
    },
    "accelerator": "GPU"
  },
  "cells": [
    {
      "cell_type": "code",
      "execution_count": null,
      "metadata": {
        "id": "QpWRpmxMGXRV"
      },
      "outputs": [],
      "source": [
        "!git clone https://github.com/theschoolofai/YoloV3.git\n"
      ]
    },
    {
      "cell_type": "code",
      "source": [
        "#!unzip data.zip"
      ],
      "metadata": {
        "id": "o12M8gxDkRhd"
      },
      "execution_count": null,
      "outputs": []
    },
    {
      "cell_type": "code",
      "source": [
        "%cd YoloV3"
      ],
      "metadata": {
        "colab": {
          "base_uri": "https://localhost:8080/"
        },
        "id": "hrFIS-BoJMVk",
        "outputId": "657c05e2-248c-4a7c-9bee-1d856070eeee"
      },
      "execution_count": 1,
      "outputs": [
        {
          "output_type": "stream",
          "name": "stdout",
          "text": [
            "/content/YoloV3\n"
          ]
        }
      ]
    },
    {
      "cell_type": "code",
      "source": [
        "!python train.py --data data/customdata/custom.data --batch 10 --cache --cfg cfg/yolov3-custom.cfg --epochs 25 --nosave\n"
      ],
      "metadata": {
        "id": "xOBuzU1qGm4i",
        "colab": {
          "base_uri": "https://localhost:8080/"
        },
        "outputId": "77ba6e08-5330-4115-8e54-a9f8d085e618"
      },
      "execution_count": 2,
      "outputs": [
        {
          "output_type": "stream",
          "name": "stdout",
          "text": [
            "Namespace(epochs=25, batch_size=10, accumulate=4, cfg='cfg/yolov3-custom.cfg', data='data/customdata/custom.data', multi_scale=False, img_size=[512], rect=False, resume=False, nosave=True, notest=False, evolve=False, bucket='', cache_images=True, weights='weights/yolov3-spp-ultralytics.pt', name='', device='', adam=False, single_cls=False)\n",
            "Using CUDA device0 _CudaDeviceProperties(name='Tesla T4', total_memory=15102MB)\n",
            "\n",
            "2024-04-26 18:16:16.498598: E external/local_xla/xla/stream_executor/cuda/cuda_dnn.cc:9261] Unable to register cuDNN factory: Attempting to register factory for plugin cuDNN when one has already been registered\n",
            "2024-04-26 18:16:16.498655: E external/local_xla/xla/stream_executor/cuda/cuda_fft.cc:607] Unable to register cuFFT factory: Attempting to register factory for plugin cuFFT when one has already been registered\n",
            "2024-04-26 18:16:16.500101: E external/local_xla/xla/stream_executor/cuda/cuda_blas.cc:1515] Unable to register cuBLAS factory: Attempting to register factory for plugin cuBLAS when one has already been registered\n",
            "2024-04-26 18:16:17.749057: W tensorflow/compiler/tf2tensorrt/utils/py_utils.cc:38] TF-TRT Warning: Could not find TensorRT\n",
            "Run 'tensorboard --logdir=runs' to view tensorboard at http://localhost:6006/\n",
            "WARNING: smart bias initialization failure.\n",
            "WARNING: smart bias initialization failure.\n",
            "WARNING: smart bias initialization failure.\n",
            "Model Summary: 225 layers, 6.25733e+07 parameters, 6.25733e+07 gradients\n",
            "Caching labels (100 found, 0 missing, 0 empty, 0 duplicate, for 100 images): 100% 100/100 [00:00<00:00, 6298.51it/s]\n",
            "Caching images (0.1GB): 100% 100/100 [00:00<00:00, 506.79it/s]\n",
            "Reading image shapes: 100% 100/100 [00:00<00:00, 1575.47it/s]\n",
            "Caching labels (100 found, 0 missing, 0 empty, 0 duplicate, for 100 images): 100% 100/100 [00:00<00:00, 6426.77it/s]\n",
            "Caching images (0.0GB): 100% 100/100 [00:00<00:00, 481.51it/s]\n",
            "Image sizes 512 - 512 train, 512 test\n",
            "Using 2 dataloader workers\n",
            "Starting training for 25 epochs...\n",
            "\n",
            "     Epoch   gpu_mem      GIoU       obj       cls     total   targets  img_size\n",
            "/usr/lib/python3.10/multiprocessing/popen_fork.py:66: RuntimeWarning: os.fork() was called. os.fork() is incompatible with multithreaded code, and JAX is multithreaded, so this will likely lead to a deadlock.\n",
            "  self.pid = os.fork()\n",
            "  0% 0/10 [00:00<?, ?it/s]/content/YoloV3/utils/utils.py:374: UserWarning: The torch.cuda.*DtypeTensor constructors are no longer recommended. It's best to use methods such as torch.tensor(data, dtype=*, device='cuda') to create tensors. (Triggered internally at ../torch/csrc/tensor/python_tensor.cpp:83.)\n",
            "  lcls, lbox, lobj = ft([0]), ft([0]), ft([0])\n",
            "/usr/local/lib/python3.10/dist-packages/torch/cuda/memory.py:440: FutureWarning: torch.cuda.memory_cached has been renamed to torch.cuda.memory_reserved\n",
            "  warnings.warn(\n",
            "      0/24     7.74G      7.68       160         0       168        24       512:  10% 1/10 [00:05<00:48,  5.36s/it]/usr/local/lib/python3.10/dist-packages/torch/cuda/memory.py:440: FutureWarning: torch.cuda.memory_cached has been renamed to torch.cuda.memory_reserved\n",
            "  warnings.warn(\n",
            "      0/24     7.74G      7.75        81         0      88.8        22       512: 100% 10/10 [00:12<00:00,  1.23s/it]\n",
            "/usr/local/lib/python3.10/dist-packages/torch/functional.py:507: UserWarning: torch.meshgrid: in an upcoming release, it will be required to pass the indexing argument. (Triggered internally at ../aten/src/ATen/native/TensorShape.cpp:3549.)\n",
            "  return _VF.meshgrid(tensors, **kwargs)  # type: ignore[attr-defined]\n",
            "               Class    Images   Targets         P         R   mAP@0.5        F1:   0% 0/10 [00:00<?, ?it/s]/usr/lib/python3.10/multiprocessing/popen_fork.py:66: RuntimeWarning: os.fork() was called. os.fork() is incompatible with multithreaded code, and JAX is multithreaded, so this will likely lead to a deadlock.\n",
            "  self.pid = os.fork()\n",
            "               Class    Images   Targets         P         R   mAP@0.5        F1: 100% 10/10 [00:05<00:00,  1.84it/s]\n",
            "                 all       100       145   0.00152    0.0276  0.000788   0.00289\n",
            "\n",
            "     Epoch   gpu_mem      GIoU       obj       cls     total   targets  img_size\n",
            "      1/24     11.2G      6.67      6.13         0      12.8        17       512: 100% 10/10 [00:07<00:00,  1.35it/s]\n",
            "               Class    Images   Targets         P         R   mAP@0.5        F1: 100% 10/10 [00:04<00:00,  2.46it/s]\n",
            "                 all       100       145         0         0   0.00127         0\n",
            "\n",
            "     Epoch   gpu_mem      GIoU       obj       cls     total   targets  img_size\n",
            "      2/24     13.1G      6.02      3.27         0      9.29        26       512: 100% 10/10 [00:07<00:00,  1.31it/s]\n",
            "               Class    Images   Targets         P         R   mAP@0.5        F1: 100% 10/10 [00:02<00:00,  3.81it/s]\n",
            "                 all       100       145         0         0   0.00224         0\n",
            "\n",
            "     Epoch   gpu_mem      GIoU       obj       cls     total   targets  img_size\n",
            "      3/24     13.1G      5.57      3.17         0      8.73        24       512: 100% 10/10 [00:07<00:00,  1.27it/s]\n",
            "               Class    Images   Targets         P         R   mAP@0.5        F1: 100% 10/10 [00:02<00:00,  4.70it/s]\n",
            "                 all       100       145         0         0   0.00364         0\n",
            "\n",
            "     Epoch   gpu_mem      GIoU       obj       cls     total   targets  img_size\n",
            "      4/24     13.1G         5      4.03         0      9.03        24       512: 100% 10/10 [00:07<00:00,  1.31it/s]\n",
            "               Class    Images   Targets         P         R   mAP@0.5        F1: 100% 10/10 [00:02<00:00,  4.78it/s]\n",
            "                 all       100       145         1    0.0069    0.0188    0.0137\n",
            "\n",
            "     Epoch   gpu_mem      GIoU       obj       cls     total   targets  img_size\n",
            "      5/24     13.1G      4.47      3.57         0      8.04        25       512: 100% 10/10 [00:07<00:00,  1.31it/s]\n",
            "               Class    Images   Targets         P         R   mAP@0.5        F1: 100% 10/10 [00:02<00:00,  4.44it/s]\n",
            "                 all       100       145         0         0    0.0932         0\n",
            "\n",
            "     Epoch   gpu_mem      GIoU       obj       cls     total   targets  img_size\n",
            "      6/24     13.1G      4.58      3.44         0      8.01        22       512: 100% 10/10 [00:07<00:00,  1.26it/s]\n",
            "               Class    Images   Targets         P         R   mAP@0.5        F1: 100% 10/10 [00:02<00:00,  4.70it/s]\n",
            "                 all       100       145         1    0.0069     0.406    0.0137\n",
            "\n",
            "     Epoch   gpu_mem      GIoU       obj       cls     total   targets  img_size\n",
            "      7/24     13.1G      3.43      3.06         0      6.49        33       512: 100% 10/10 [00:07<00:00,  1.30it/s]\n",
            "               Class    Images   Targets         P         R   mAP@0.5        F1: 100% 10/10 [00:02<00:00,  4.67it/s]\n",
            "                 all       100       145     0.802    0.0552     0.457     0.103\n",
            "\n",
            "     Epoch   gpu_mem      GIoU       obj       cls     total   targets  img_size\n",
            "      8/24     13.1G      3.88      2.49         0      6.37        20       512: 100% 10/10 [00:07<00:00,  1.29it/s]\n",
            "               Class    Images   Targets         P         R   mAP@0.5        F1: 100% 10/10 [00:02<00:00,  4.10it/s]\n",
            "                 all       100       145     0.577     0.479     0.497     0.523\n",
            "\n",
            "     Epoch   gpu_mem      GIoU       obj       cls     total   targets  img_size\n",
            "      9/24     13.1G      3.47      1.98         0      5.46        24       512: 100% 10/10 [00:07<00:00,  1.29it/s]\n",
            "               Class    Images   Targets         P         R   mAP@0.5        F1: 100% 10/10 [00:02<00:00,  4.43it/s]\n",
            "                 all       100       145     0.359     0.572     0.447     0.441\n",
            "\n",
            "     Epoch   gpu_mem      GIoU       obj       cls     total   targets  img_size\n",
            "     10/24     13.1G       3.8      1.69         0      5.49        20       512: 100% 10/10 [00:08<00:00,  1.24it/s]\n",
            "               Class    Images   Targets         P         R   mAP@0.5        F1: 100% 10/10 [00:02<00:00,  4.60it/s]\n",
            "                 all       100       145     0.257      0.69     0.525     0.374\n",
            "\n",
            "     Epoch   gpu_mem      GIoU       obj       cls     total   targets  img_size\n",
            "     11/24     13.1G       3.6      1.35         0      4.95        22       512: 100% 10/10 [00:07<00:00,  1.27it/s]\n",
            "               Class    Images   Targets         P         R   mAP@0.5        F1: 100% 10/10 [00:02<00:00,  4.61it/s]\n",
            "                 all       100       145     0.298     0.703      0.63     0.419\n",
            "\n",
            "     Epoch   gpu_mem      GIoU       obj       cls     total   targets  img_size\n",
            "     12/24     13.1G      3.58      1.15         0      4.73        24       512: 100% 10/10 [00:07<00:00,  1.27it/s]\n",
            "               Class    Images   Targets         P         R   mAP@0.5        F1: 100% 10/10 [00:02<00:00,  4.14it/s]\n",
            "                 all       100       145     0.378      0.71     0.659     0.494\n",
            "\n",
            "     Epoch   gpu_mem      GIoU       obj       cls     total   targets  img_size\n",
            "     13/24     13.1G      3.26      1.14         0       4.4        20       512: 100% 10/10 [00:07<00:00,  1.28it/s]\n",
            "               Class    Images   Targets         P         R   mAP@0.5        F1: 100% 10/10 [00:02<00:00,  4.53it/s]\n",
            "                 all       100       145     0.498     0.683     0.655     0.576\n",
            "\n",
            "     Epoch   gpu_mem      GIoU       obj       cls     total   targets  img_size\n",
            "     14/24     13.1G      3.34      1.23         0      4.57        31       512: 100% 10/10 [00:08<00:00,  1.22it/s]\n",
            "               Class    Images   Targets         P         R   mAP@0.5        F1: 100% 10/10 [00:02<00:00,  4.65it/s]\n",
            "                 all       100       145     0.539     0.683     0.657     0.603\n",
            "\n",
            "     Epoch   gpu_mem      GIoU       obj       cls     total   targets  img_size\n",
            "     15/24     13.1G      3.22     0.973         0      4.19        24       512: 100% 10/10 [00:07<00:00,  1.25it/s]\n",
            "               Class    Images   Targets         P         R   mAP@0.5        F1: 100% 10/10 [00:02<00:00,  4.57it/s]\n",
            "                 all       100       145      0.51     0.724     0.564     0.599\n",
            "\n",
            "     Epoch   gpu_mem      GIoU       obj       cls     total   targets  img_size\n",
            "     16/24     13.1G      2.78     0.855         0      3.63        27       512: 100% 10/10 [00:08<00:00,  1.25it/s]\n",
            "               Class    Images   Targets         P         R   mAP@0.5        F1: 100% 10/10 [00:02<00:00,  4.15it/s]\n",
            "                 all       100       145     0.611     0.724     0.627     0.663\n",
            "\n",
            "     Epoch   gpu_mem      GIoU       obj       cls     total   targets  img_size\n",
            "     17/24     13.1G      3.13      0.93         0      4.06        19       512: 100% 10/10 [00:07<00:00,  1.26it/s]\n",
            "               Class    Images   Targets         P         R   mAP@0.5        F1: 100% 10/10 [00:02<00:00,  4.47it/s]\n",
            "                 all       100       145     0.639     0.745     0.631     0.688\n",
            "\n",
            "     Epoch   gpu_mem      GIoU       obj       cls     total   targets  img_size\n",
            "     18/24     13.1G      2.61     0.901         0      3.51        20       512: 100% 10/10 [00:08<00:00,  1.20it/s]\n",
            "               Class    Images   Targets         P         R   mAP@0.5        F1: 100% 10/10 [00:02<00:00,  4.52it/s]\n",
            "                 all       100       145     0.661     0.745      0.69     0.701\n",
            "\n",
            "     Epoch   gpu_mem      GIoU       obj       cls     total   targets  img_size\n",
            "     19/24     13.1G      2.77      1.04         0      3.81        34       512: 100% 10/10 [00:08<00:00,  1.24it/s]\n",
            "               Class    Images   Targets         P         R   mAP@0.5        F1: 100% 10/10 [00:02<00:00,  4.02it/s]\n",
            "                 all       100       145     0.686     0.738     0.727     0.711\n",
            "\n",
            "     Epoch   gpu_mem      GIoU       obj       cls     total   targets  img_size\n",
            "     20/24     13.1G      2.42     0.861         0      3.28        25       512: 100% 10/10 [00:08<00:00,  1.24it/s]\n",
            "               Class    Images   Targets         P         R   mAP@0.5        F1: 100% 10/10 [00:02<00:00,  4.09it/s]\n",
            "                 all       100       145     0.655     0.752     0.749       0.7\n",
            "\n",
            "     Epoch   gpu_mem      GIoU       obj       cls     total   targets  img_size\n",
            "     21/24     13.1G      2.21     0.751         0      2.96        17       512: 100% 10/10 [00:08<00:00,  1.22it/s]\n",
            "               Class    Images   Targets         P         R   mAP@0.5        F1: 100% 10/10 [00:02<00:00,  4.57it/s]\n",
            "                 all       100       145     0.651     0.759      0.75       0.7\n",
            "\n",
            "     Epoch   gpu_mem      GIoU       obj       cls     total   targets  img_size\n",
            "     22/24     13.1G      2.24     0.725         0      2.97        23       512: 100% 10/10 [00:08<00:00,  1.22it/s]\n",
            "               Class    Images   Targets         P         R   mAP@0.5        F1: 100% 10/10 [00:02<00:00,  4.55it/s]\n",
            "                 all       100       145      0.63     0.759     0.757     0.689\n",
            "\n",
            "     Epoch   gpu_mem      GIoU       obj       cls     total   targets  img_size\n",
            "     23/24     13.1G      2.21     0.727         0      2.94        19       512: 100% 10/10 [00:08<00:00,  1.24it/s]\n",
            "               Class    Images   Targets         P         R   mAP@0.5        F1: 100% 10/10 [00:02<00:00,  4.38it/s]\n",
            "                 all       100       145     0.637     0.766     0.763     0.695\n",
            "\n",
            "     Epoch   gpu_mem      GIoU       obj       cls     total   targets  img_size\n",
            "     24/24     13.1G      2.47     0.784         0      3.25        21       512: 100% 10/10 [00:08<00:00,  1.23it/s]\n",
            "               Class    Images   Targets         P         R   mAP@0.5        F1: 100% 10/10 [00:02<00:00,  4.07it/s]\n",
            "                 all       100       145     0.703     0.759     0.773      0.73\n",
            "25 epochs completed in 0.075 hours.\n",
            "\n"
          ]
        }
      ]
    },
    {
      "cell_type": "code",
      "source": [],
      "metadata": {
        "id": "NFJokdy_JCUo"
      },
      "execution_count": null,
      "outputs": []
    }
  ]
}